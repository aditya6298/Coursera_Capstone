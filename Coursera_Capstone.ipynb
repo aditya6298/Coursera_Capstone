{
    "cells": [
        {
            "metadata": {
                "collapsed": true
            },
            "cell_type": "markdown",
            "source": "this is data science capstone project\nProject predicts that considering all the conditions like weather,road quality etc, what are the chances of getting in to an accident and what kind of damage can be done on you by the accident using data of past years"
        },
        {
            "metadata": {},
            "cell_type": "code",
            "source": "import pandas as pd\nimport numpy as np\nfrom sklearn.model_selection import train_test_split\nfrom sklearn.neighbors import KNeighborsClassifier\nfrom sklearn.metrics import classification_report\nfrom sklearn.tree import DecisionTreeClassifier\nfrom sklearn import svm\nfrom sklearn.metrics import f1_score\nfrom sklearn.metrics import accuracy_score\nfrom sklearn import preprocessing\nfrom sklearn.linear_model import LogisticRegression",
            "execution_count": 81,
            "outputs": []
        },
        {
            "metadata": {},
            "cell_type": "code",
            "source": "path = 'https://s3.us.cloud-object-storage.appdomain.cloud/cf-courses-data/CognitiveClass/DP0701EN/version-2/Data-Collisions.csv' #importing the data\ndf = pd.read_csv(path)\n",
            "execution_count": 66,
            "outputs": []
        },
        {
            "metadata": {},
            "cell_type": "code",
            "source": "df.shape #to check the total no of rows and columns in data",
            "execution_count": 45,
            "outputs": [
                {
                    "output_type": "execute_result",
                    "execution_count": 45,
                    "data": {
                        "text/plain": "(194673, 38)"
                    },
                    "metadata": {}
                }
            ]
        },
        {
            "metadata": {},
            "cell_type": "code",
            "source": "df.dtypes #to check the data type of each attribute so as to get more understanding",
            "execution_count": 46,
            "outputs": [
                {
                    "output_type": "execute_result",
                    "execution_count": 46,
                    "data": {
                        "text/plain": "SEVERITYCODE        int64\nX                 float64\nY                 float64\nOBJECTID            int64\nINCKEY              int64\nCOLDETKEY           int64\nREPORTNO           object\nSTATUS             object\nADDRTYPE           object\nINTKEY            float64\nLOCATION           object\nEXCEPTRSNCODE      object\nEXCEPTRSNDESC      object\nSEVERITYCODE.1      int64\nSEVERITYDESC       object\nCOLLISIONTYPE      object\nPERSONCOUNT         int64\nPEDCOUNT            int64\nPEDCYLCOUNT         int64\nVEHCOUNT            int64\nINCDATE            object\nINCDTTM            object\nJUNCTIONTYPE       object\nSDOT_COLCODE        int64\nSDOT_COLDESC       object\nINATTENTIONIND     object\nUNDERINFL          object\nWEATHER            object\nROADCOND           object\nLIGHTCOND          object\nPEDROWNOTGRNT      object\nSDOTCOLNUM        float64\nSPEEDING           object\nST_COLCODE         object\nST_COLDESC         object\nSEGLANEKEY          int64\nCROSSWALKKEY        int64\nHITPARKEDCAR       object\ndtype: object"
                    },
                    "metadata": {}
                }
            ]
        },
        {
            "metadata": {},
            "cell_type": "code",
            "source": "df.drop(['SEVERITYCODE.1','SEVERITYDESC','COLLISIONTYPE'] , axis=1, inplace=True) #dropping these 3 columns as information is already conveyed by SEVERITYCODE ",
            "execution_count": 67,
            "outputs": []
        },
        {
            "metadata": {},
            "cell_type": "code",
            "source": "df.drop(['OBJECTID','INCKEY','COLDETKEY','REPORTNO','STATUS','INTKEY','EXCEPTRSNCODE','EXCEPTRSNDESC','SDOT_COLCODE','SDOT_COLDESC','SDOTCOLNUM','ST_COLCODE','ST_COLDESC','SEGLANEKEY','CROSSWALKKEY'] , axis=1,inplace=True)\n#dropping these columns as most are keys and have less or no significance on the data",
            "execution_count": 68,
            "outputs": []
        },
        {
            "metadata": {},
            "cell_type": "code",
            "source": "df.shape #as we can see the data has decresed to columns",
            "execution_count": 49,
            "outputs": [
                {
                    "output_type": "execute_result",
                    "execution_count": 49,
                    "data": {
                        "text/plain": "(194673, 20)"
                    },
                    "metadata": {}
                }
            ]
        },
        {
            "metadata": {},
            "cell_type": "code",
            "source": "df.drop(['ADDRTYPE','LOCATION','PERSONCOUNT','PEDCOUNT','PEDCYLCOUNT','VEHCOUNT','PEDROWNOTGRNT','HITPARKEDCAR'] , axis=1,inplace=True) #dropping columns thgat will not help in prediction",
            "execution_count": 69,
            "outputs": []
        },
        {
            "metadata": {},
            "cell_type": "code",
            "source": "df.rename(columns = {\"X\":\"LONGITUDE\",\"Y\":\"LATITUDE\"}, inplace=True)        #making data more expressible",
            "execution_count": 71,
            "outputs": []
        },
        {
            "metadata": {},
            "cell_type": "code",
            "source": "df.tail(20) #final dataset to be used ",
            "execution_count": 76,
            "outputs": [
                {
                    "output_type": "execute_result",
                    "execution_count": 76,
                    "data": {
                        "text/plain": "        SEVERITYCODE   LONGITUDE   LATITUDE                 INCDATE  \\\n194653             2 -122.322097  47.649615  2018/12/10 00:00:00+00   \n194654             1 -122.312679  47.719414  2019/01/10 00:00:00+00   \n194655             2 -122.380016  47.664879  2019/01/20 00:00:00+00   \n194656             2 -122.340474  47.614496  2019/01/23 00:00:00+00   \n194657             1 -122.337137  47.610709  2018/11/26 00:00:00+00   \n194658             1 -122.302554  47.584099  2019/01/18 00:00:00+00   \n194659             1 -122.298955  47.717456  2018/11/27 00:00:00+00   \n194660             2 -122.330518  47.619543  2018/12/23 00:00:00+00   \n194661             2 -122.306092  47.617881  2019/03/22 00:00:00+00   \n194662             1 -122.337880  47.625793  2018/12/05 00:00:00+00   \n194663             2 -122.299160  47.579673  2019/01/09 00:00:00+00   \n194664             1 -122.325887  47.643191  2018/12/30 00:00:00+00   \n194665             1 -122.304217  47.669537  2018/12/05 00:00:00+00   \n194666             2 -122.344569  47.694547  2019/01/04 00:00:00+00   \n194667             1 -122.361672  47.556722  2018/11/28 00:00:00+00   \n194668             2 -122.290826  47.565408  2018/11/12 00:00:00+00   \n194669             1 -122.344526  47.690924  2018/12/18 00:00:00+00   \n194670             2 -122.306689  47.683047  2019/01/19 00:00:00+00   \n194671             2 -122.355317  47.678734  2019/01/15 00:00:00+00   \n194672             1 -122.289360  47.611017  2018/11/30 00:00:00+00   \n\n                       INCDTTM                             JUNCTIONTYPE  \\\n194653  12/10/2018 12:47:00 AM  Mid-Block (not related to intersection)   \n194654               1/10/2019   At Intersection (intersection related)   \n194655               1/20/2019   At Intersection (intersection related)   \n194656   1/23/2019 10:15:00 AM   At Intersection (intersection related)   \n194657   11/26/2018 3:37:00 AM  Mid-Block (not related to intersection)   \n194658    1/18/2019 9:57:00 PM  Mid-Block (not related to intersection)   \n194659   11/27/2018 5:30:00 PM  Mid-Block (not related to intersection)   \n194660  12/23/2018 12:52:00 PM  Mid-Block (not related to intersection)   \n194661    3/22/2019 5:19:00 PM     Mid-Block (but intersection related)   \n194662    12/5/2018 5:09:00 PM     Mid-Block (but intersection related)   \n194663    1/9/2019 12:51:00 PM  Mid-Block (not related to intersection)   \n194664   12/30/2018 3:25:00 PM   At Intersection (intersection related)   \n194665    12/5/2018 1:00:00 PM   At Intersection (intersection related)   \n194666     1/4/2019 1:46:00 PM  Mid-Block (not related to intersection)   \n194667   11/28/2018 9:34:00 PM  Mid-Block (not related to intersection)   \n194668   11/12/2018 8:12:00 AM  Mid-Block (not related to intersection)   \n194669   12/18/2018 9:14:00 AM  Mid-Block (not related to intersection)   \n194670    1/19/2019 9:25:00 AM   At Intersection (intersection related)   \n194671    1/15/2019 4:48:00 PM   At Intersection (intersection related)   \n194672   11/30/2018 3:45:00 PM  Mid-Block (not related to intersection)   \n\n       INATTENTIONIND UNDERINFL   WEATHER ROADCOND                LIGHTCOND  \\\n194653            NaN         Y  Overcast      Wet  Dark - Street Lights On   \n194654            NaN       NaN     Clear      Dry                 Daylight   \n194655            NaN       NaN     Clear      Dry                 Daylight   \n194656            NaN         N     Clear      Dry                 Daylight   \n194657            NaN         N   Raining      Wet  Dark - Street Lights On   \n194658            NaN         N   Raining      Wet  Dark - Street Lights On   \n194659            NaN         N   Raining      Wet  Dark - Street Lights On   \n194660            NaN         N   Raining      Wet                    Other   \n194661            NaN         Y     Clear      Dry                 Daylight   \n194662            NaN         N     Clear      Dry                     Dusk   \n194663              Y         N   Raining      Wet                 Daylight   \n194664            NaN         N     Clear      Dry                 Daylight   \n194665            NaN         N     Clear      Dry                 Daylight   \n194666            NaN         N     Clear      Wet                 Daylight   \n194667            NaN         Y   Raining      Wet  Dark - Street Lights On   \n194668            NaN         N     Clear      Dry                 Daylight   \n194669              Y         N   Raining      Wet                 Daylight   \n194670            NaN         N     Clear      Dry                 Daylight   \n194671            NaN         N     Clear      Dry                     Dusk   \n194672            NaN         N     Clear      Wet                 Daylight   \n\n       SPEEDING  \n194653      NaN  \n194654      NaN  \n194655      NaN  \n194656      NaN  \n194657      NaN  \n194658      NaN  \n194659      NaN  \n194660      NaN  \n194661      NaN  \n194662      NaN  \n194663      NaN  \n194664      NaN  \n194665      NaN  \n194666      NaN  \n194667      NaN  \n194668      NaN  \n194669      NaN  \n194670      NaN  \n194671      NaN  \n194672      NaN  ",
                        "text/html": "<div>\n<style scoped>\n    .dataframe tbody tr th:only-of-type {\n        vertical-align: middle;\n    }\n\n    .dataframe tbody tr th {\n        vertical-align: top;\n    }\n\n    .dataframe thead th {\n        text-align: right;\n    }\n</style>\n<table border=\"1\" class=\"dataframe\">\n  <thead>\n    <tr style=\"text-align: right;\">\n      <th></th>\n      <th>SEVERITYCODE</th>\n      <th>LONGITUDE</th>\n      <th>LATITUDE</th>\n      <th>INCDATE</th>\n      <th>INCDTTM</th>\n      <th>JUNCTIONTYPE</th>\n      <th>INATTENTIONIND</th>\n      <th>UNDERINFL</th>\n      <th>WEATHER</th>\n      <th>ROADCOND</th>\n      <th>LIGHTCOND</th>\n      <th>SPEEDING</th>\n    </tr>\n  </thead>\n  <tbody>\n    <tr>\n      <th>194653</th>\n      <td>2</td>\n      <td>-122.322097</td>\n      <td>47.649615</td>\n      <td>2018/12/10 00:00:00+00</td>\n      <td>12/10/2018 12:47:00 AM</td>\n      <td>Mid-Block (not related to intersection)</td>\n      <td>NaN</td>\n      <td>Y</td>\n      <td>Overcast</td>\n      <td>Wet</td>\n      <td>Dark - Street Lights On</td>\n      <td>NaN</td>\n    </tr>\n    <tr>\n      <th>194654</th>\n      <td>1</td>\n      <td>-122.312679</td>\n      <td>47.719414</td>\n      <td>2019/01/10 00:00:00+00</td>\n      <td>1/10/2019</td>\n      <td>At Intersection (intersection related)</td>\n      <td>NaN</td>\n      <td>NaN</td>\n      <td>Clear</td>\n      <td>Dry</td>\n      <td>Daylight</td>\n      <td>NaN</td>\n    </tr>\n    <tr>\n      <th>194655</th>\n      <td>2</td>\n      <td>-122.380016</td>\n      <td>47.664879</td>\n      <td>2019/01/20 00:00:00+00</td>\n      <td>1/20/2019</td>\n      <td>At Intersection (intersection related)</td>\n      <td>NaN</td>\n      <td>NaN</td>\n      <td>Clear</td>\n      <td>Dry</td>\n      <td>Daylight</td>\n      <td>NaN</td>\n    </tr>\n    <tr>\n      <th>194656</th>\n      <td>2</td>\n      <td>-122.340474</td>\n      <td>47.614496</td>\n      <td>2019/01/23 00:00:00+00</td>\n      <td>1/23/2019 10:15:00 AM</td>\n      <td>At Intersection (intersection related)</td>\n      <td>NaN</td>\n      <td>N</td>\n      <td>Clear</td>\n      <td>Dry</td>\n      <td>Daylight</td>\n      <td>NaN</td>\n    </tr>\n    <tr>\n      <th>194657</th>\n      <td>1</td>\n      <td>-122.337137</td>\n      <td>47.610709</td>\n      <td>2018/11/26 00:00:00+00</td>\n      <td>11/26/2018 3:37:00 AM</td>\n      <td>Mid-Block (not related to intersection)</td>\n      <td>NaN</td>\n      <td>N</td>\n      <td>Raining</td>\n      <td>Wet</td>\n      <td>Dark - Street Lights On</td>\n      <td>NaN</td>\n    </tr>\n    <tr>\n      <th>194658</th>\n      <td>1</td>\n      <td>-122.302554</td>\n      <td>47.584099</td>\n      <td>2019/01/18 00:00:00+00</td>\n      <td>1/18/2019 9:57:00 PM</td>\n      <td>Mid-Block (not related to intersection)</td>\n      <td>NaN</td>\n      <td>N</td>\n      <td>Raining</td>\n      <td>Wet</td>\n      <td>Dark - Street Lights On</td>\n      <td>NaN</td>\n    </tr>\n    <tr>\n      <th>194659</th>\n      <td>1</td>\n      <td>-122.298955</td>\n      <td>47.717456</td>\n      <td>2018/11/27 00:00:00+00</td>\n      <td>11/27/2018 5:30:00 PM</td>\n      <td>Mid-Block (not related to intersection)</td>\n      <td>NaN</td>\n      <td>N</td>\n      <td>Raining</td>\n      <td>Wet</td>\n      <td>Dark - Street Lights On</td>\n      <td>NaN</td>\n    </tr>\n    <tr>\n      <th>194660</th>\n      <td>2</td>\n      <td>-122.330518</td>\n      <td>47.619543</td>\n      <td>2018/12/23 00:00:00+00</td>\n      <td>12/23/2018 12:52:00 PM</td>\n      <td>Mid-Block (not related to intersection)</td>\n      <td>NaN</td>\n      <td>N</td>\n      <td>Raining</td>\n      <td>Wet</td>\n      <td>Other</td>\n      <td>NaN</td>\n    </tr>\n    <tr>\n      <th>194661</th>\n      <td>2</td>\n      <td>-122.306092</td>\n      <td>47.617881</td>\n      <td>2019/03/22 00:00:00+00</td>\n      <td>3/22/2019 5:19:00 PM</td>\n      <td>Mid-Block (but intersection related)</td>\n      <td>NaN</td>\n      <td>Y</td>\n      <td>Clear</td>\n      <td>Dry</td>\n      <td>Daylight</td>\n      <td>NaN</td>\n    </tr>\n    <tr>\n      <th>194662</th>\n      <td>1</td>\n      <td>-122.337880</td>\n      <td>47.625793</td>\n      <td>2018/12/05 00:00:00+00</td>\n      <td>12/5/2018 5:09:00 PM</td>\n      <td>Mid-Block (but intersection related)</td>\n      <td>NaN</td>\n      <td>N</td>\n      <td>Clear</td>\n      <td>Dry</td>\n      <td>Dusk</td>\n      <td>NaN</td>\n    </tr>\n    <tr>\n      <th>194663</th>\n      <td>2</td>\n      <td>-122.299160</td>\n      <td>47.579673</td>\n      <td>2019/01/09 00:00:00+00</td>\n      <td>1/9/2019 12:51:00 PM</td>\n      <td>Mid-Block (not related to intersection)</td>\n      <td>Y</td>\n      <td>N</td>\n      <td>Raining</td>\n      <td>Wet</td>\n      <td>Daylight</td>\n      <td>NaN</td>\n    </tr>\n    <tr>\n      <th>194664</th>\n      <td>1</td>\n      <td>-122.325887</td>\n      <td>47.643191</td>\n      <td>2018/12/30 00:00:00+00</td>\n      <td>12/30/2018 3:25:00 PM</td>\n      <td>At Intersection (intersection related)</td>\n      <td>NaN</td>\n      <td>N</td>\n      <td>Clear</td>\n      <td>Dry</td>\n      <td>Daylight</td>\n      <td>NaN</td>\n    </tr>\n    <tr>\n      <th>194665</th>\n      <td>1</td>\n      <td>-122.304217</td>\n      <td>47.669537</td>\n      <td>2018/12/05 00:00:00+00</td>\n      <td>12/5/2018 1:00:00 PM</td>\n      <td>At Intersection (intersection related)</td>\n      <td>NaN</td>\n      <td>N</td>\n      <td>Clear</td>\n      <td>Dry</td>\n      <td>Daylight</td>\n      <td>NaN</td>\n    </tr>\n    <tr>\n      <th>194666</th>\n      <td>2</td>\n      <td>-122.344569</td>\n      <td>47.694547</td>\n      <td>2019/01/04 00:00:00+00</td>\n      <td>1/4/2019 1:46:00 PM</td>\n      <td>Mid-Block (not related to intersection)</td>\n      <td>NaN</td>\n      <td>N</td>\n      <td>Clear</td>\n      <td>Wet</td>\n      <td>Daylight</td>\n      <td>NaN</td>\n    </tr>\n    <tr>\n      <th>194667</th>\n      <td>1</td>\n      <td>-122.361672</td>\n      <td>47.556722</td>\n      <td>2018/11/28 00:00:00+00</td>\n      <td>11/28/2018 9:34:00 PM</td>\n      <td>Mid-Block (not related to intersection)</td>\n      <td>NaN</td>\n      <td>Y</td>\n      <td>Raining</td>\n      <td>Wet</td>\n      <td>Dark - Street Lights On</td>\n      <td>NaN</td>\n    </tr>\n    <tr>\n      <th>194668</th>\n      <td>2</td>\n      <td>-122.290826</td>\n      <td>47.565408</td>\n      <td>2018/11/12 00:00:00+00</td>\n      <td>11/12/2018 8:12:00 AM</td>\n      <td>Mid-Block (not related to intersection)</td>\n      <td>NaN</td>\n      <td>N</td>\n      <td>Clear</td>\n      <td>Dry</td>\n      <td>Daylight</td>\n      <td>NaN</td>\n    </tr>\n    <tr>\n      <th>194669</th>\n      <td>1</td>\n      <td>-122.344526</td>\n      <td>47.690924</td>\n      <td>2018/12/18 00:00:00+00</td>\n      <td>12/18/2018 9:14:00 AM</td>\n      <td>Mid-Block (not related to intersection)</td>\n      <td>Y</td>\n      <td>N</td>\n      <td>Raining</td>\n      <td>Wet</td>\n      <td>Daylight</td>\n      <td>NaN</td>\n    </tr>\n    <tr>\n      <th>194670</th>\n      <td>2</td>\n      <td>-122.306689</td>\n      <td>47.683047</td>\n      <td>2019/01/19 00:00:00+00</td>\n      <td>1/19/2019 9:25:00 AM</td>\n      <td>At Intersection (intersection related)</td>\n      <td>NaN</td>\n      <td>N</td>\n      <td>Clear</td>\n      <td>Dry</td>\n      <td>Daylight</td>\n      <td>NaN</td>\n    </tr>\n    <tr>\n      <th>194671</th>\n      <td>2</td>\n      <td>-122.355317</td>\n      <td>47.678734</td>\n      <td>2019/01/15 00:00:00+00</td>\n      <td>1/15/2019 4:48:00 PM</td>\n      <td>At Intersection (intersection related)</td>\n      <td>NaN</td>\n      <td>N</td>\n      <td>Clear</td>\n      <td>Dry</td>\n      <td>Dusk</td>\n      <td>NaN</td>\n    </tr>\n    <tr>\n      <th>194672</th>\n      <td>1</td>\n      <td>-122.289360</td>\n      <td>47.611017</td>\n      <td>2018/11/30 00:00:00+00</td>\n      <td>11/30/2018 3:45:00 PM</td>\n      <td>Mid-Block (not related to intersection)</td>\n      <td>NaN</td>\n      <td>N</td>\n      <td>Clear</td>\n      <td>Wet</td>\n      <td>Daylight</td>\n      <td>NaN</td>\n    </tr>\n  </tbody>\n</table>\n</div>"
                    },
                    "metadata": {}
                }
            ]
        },
        {
            "metadata": {},
            "cell_type": "markdown",
            "source": "#now data will be prepared\n"
        },
        {
            "metadata": {},
            "cell_type": "code",
            "source": "#now longitude and latitude have 5334 missing values so replacing them by mean\navg_long = df[\"LONGITUDE\"].astype(\"float\").mean(axis = 0)\n\n\n# replace NaN by mean value in \"stroke\" column\ndf[\"LONGITUDE\"].replace(np.nan, avg_long, inplace = True)",
            "execution_count": 73,
            "outputs": []
        },
        {
            "metadata": {},
            "cell_type": "code",
            "source": "avg_lat = df[\"LATITUDE\"].astype(\"float\").mean(axis = 0)\n\n\n# replace NaN by mean value in \"stroke\" column\ndf[\"LATITUDE\"].replace(np.nan, avg_lat, inplace = True)",
            "execution_count": 74,
            "outputs": []
        },
        {
            "metadata": {},
            "cell_type": "code",
            "source": "#now unknown values in categorical variables are replaced by mode\nfor column in ['JUNCTIONTYPE', 'WEATHER', 'ROADCOND', 'LIGHTCOND']:\n    df[column].fillna(df[column].mode()[0], inplace=True)",
            "execution_count": 62,
            "outputs": []
        },
        {
            "metadata": {},
            "cell_type": "code",
            "source": "#replacing nan values with 'N' in INATTENTIONIND, UNDERINFL,SPEEDING\ndf['INATTENTIONIND'] = df['INATTENTIONIND'].fillna('N')\ndf['UNDERINFL'] = df['UNDERINFL'].fillna('N')\ndf['SPEEDING'] = df['SPEEDING'].fillna('N')",
            "execution_count": 79,
            "outputs": []
        },
        {
            "metadata": {},
            "cell_type": "code",
            "source": "df.tail(20)",
            "execution_count": 80,
            "outputs": [
                {
                    "output_type": "execute_result",
                    "execution_count": 80,
                    "data": {
                        "text/plain": "        SEVERITYCODE   LONGITUDE   LATITUDE                 INCDATE  \\\n194653             2 -122.322097  47.649615  2018/12/10 00:00:00+00   \n194654             1 -122.312679  47.719414  2019/01/10 00:00:00+00   \n194655             2 -122.380016  47.664879  2019/01/20 00:00:00+00   \n194656             2 -122.340474  47.614496  2019/01/23 00:00:00+00   \n194657             1 -122.337137  47.610709  2018/11/26 00:00:00+00   \n194658             1 -122.302554  47.584099  2019/01/18 00:00:00+00   \n194659             1 -122.298955  47.717456  2018/11/27 00:00:00+00   \n194660             2 -122.330518  47.619543  2018/12/23 00:00:00+00   \n194661             2 -122.306092  47.617881  2019/03/22 00:00:00+00   \n194662             1 -122.337880  47.625793  2018/12/05 00:00:00+00   \n194663             2 -122.299160  47.579673  2019/01/09 00:00:00+00   \n194664             1 -122.325887  47.643191  2018/12/30 00:00:00+00   \n194665             1 -122.304217  47.669537  2018/12/05 00:00:00+00   \n194666             2 -122.344569  47.694547  2019/01/04 00:00:00+00   \n194667             1 -122.361672  47.556722  2018/11/28 00:00:00+00   \n194668             2 -122.290826  47.565408  2018/11/12 00:00:00+00   \n194669             1 -122.344526  47.690924  2018/12/18 00:00:00+00   \n194670             2 -122.306689  47.683047  2019/01/19 00:00:00+00   \n194671             2 -122.355317  47.678734  2019/01/15 00:00:00+00   \n194672             1 -122.289360  47.611017  2018/11/30 00:00:00+00   \n\n                       INCDTTM                             JUNCTIONTYPE  \\\n194653  12/10/2018 12:47:00 AM  Mid-Block (not related to intersection)   \n194654               1/10/2019   At Intersection (intersection related)   \n194655               1/20/2019   At Intersection (intersection related)   \n194656   1/23/2019 10:15:00 AM   At Intersection (intersection related)   \n194657   11/26/2018 3:37:00 AM  Mid-Block (not related to intersection)   \n194658    1/18/2019 9:57:00 PM  Mid-Block (not related to intersection)   \n194659   11/27/2018 5:30:00 PM  Mid-Block (not related to intersection)   \n194660  12/23/2018 12:52:00 PM  Mid-Block (not related to intersection)   \n194661    3/22/2019 5:19:00 PM     Mid-Block (but intersection related)   \n194662    12/5/2018 5:09:00 PM     Mid-Block (but intersection related)   \n194663    1/9/2019 12:51:00 PM  Mid-Block (not related to intersection)   \n194664   12/30/2018 3:25:00 PM   At Intersection (intersection related)   \n194665    12/5/2018 1:00:00 PM   At Intersection (intersection related)   \n194666     1/4/2019 1:46:00 PM  Mid-Block (not related to intersection)   \n194667   11/28/2018 9:34:00 PM  Mid-Block (not related to intersection)   \n194668   11/12/2018 8:12:00 AM  Mid-Block (not related to intersection)   \n194669   12/18/2018 9:14:00 AM  Mid-Block (not related to intersection)   \n194670    1/19/2019 9:25:00 AM   At Intersection (intersection related)   \n194671    1/15/2019 4:48:00 PM   At Intersection (intersection related)   \n194672   11/30/2018 3:45:00 PM  Mid-Block (not related to intersection)   \n\n       INATTENTIONIND UNDERINFL   WEATHER ROADCOND                LIGHTCOND  \\\n194653              N         Y  Overcast      Wet  Dark - Street Lights On   \n194654              N         N     Clear      Dry                 Daylight   \n194655              N         N     Clear      Dry                 Daylight   \n194656              N         N     Clear      Dry                 Daylight   \n194657              N         N   Raining      Wet  Dark - Street Lights On   \n194658              N         N   Raining      Wet  Dark - Street Lights On   \n194659              N         N   Raining      Wet  Dark - Street Lights On   \n194660              N         N   Raining      Wet                    Other   \n194661              N         Y     Clear      Dry                 Daylight   \n194662              N         N     Clear      Dry                     Dusk   \n194663              Y         N   Raining      Wet                 Daylight   \n194664              N         N     Clear      Dry                 Daylight   \n194665              N         N     Clear      Dry                 Daylight   \n194666              N         N     Clear      Wet                 Daylight   \n194667              N         Y   Raining      Wet  Dark - Street Lights On   \n194668              N         N     Clear      Dry                 Daylight   \n194669              Y         N   Raining      Wet                 Daylight   \n194670              N         N     Clear      Dry                 Daylight   \n194671              N         N     Clear      Dry                     Dusk   \n194672              N         N     Clear      Wet                 Daylight   \n\n       SPEEDING  \n194653        N  \n194654        N  \n194655        N  \n194656        N  \n194657        N  \n194658        N  \n194659        N  \n194660        N  \n194661        N  \n194662        N  \n194663        N  \n194664        N  \n194665        N  \n194666        N  \n194667        N  \n194668        N  \n194669        N  \n194670        N  \n194671        N  \n194672        N  ",
                        "text/html": "<div>\n<style scoped>\n    .dataframe tbody tr th:only-of-type {\n        vertical-align: middle;\n    }\n\n    .dataframe tbody tr th {\n        vertical-align: top;\n    }\n\n    .dataframe thead th {\n        text-align: right;\n    }\n</style>\n<table border=\"1\" class=\"dataframe\">\n  <thead>\n    <tr style=\"text-align: right;\">\n      <th></th>\n      <th>SEVERITYCODE</th>\n      <th>LONGITUDE</th>\n      <th>LATITUDE</th>\n      <th>INCDATE</th>\n      <th>INCDTTM</th>\n      <th>JUNCTIONTYPE</th>\n      <th>INATTENTIONIND</th>\n      <th>UNDERINFL</th>\n      <th>WEATHER</th>\n      <th>ROADCOND</th>\n      <th>LIGHTCOND</th>\n      <th>SPEEDING</th>\n    </tr>\n  </thead>\n  <tbody>\n    <tr>\n      <th>194653</th>\n      <td>2</td>\n      <td>-122.322097</td>\n      <td>47.649615</td>\n      <td>2018/12/10 00:00:00+00</td>\n      <td>12/10/2018 12:47:00 AM</td>\n      <td>Mid-Block (not related to intersection)</td>\n      <td>N</td>\n      <td>Y</td>\n      <td>Overcast</td>\n      <td>Wet</td>\n      <td>Dark - Street Lights On</td>\n      <td>N</td>\n    </tr>\n    <tr>\n      <th>194654</th>\n      <td>1</td>\n      <td>-122.312679</td>\n      <td>47.719414</td>\n      <td>2019/01/10 00:00:00+00</td>\n      <td>1/10/2019</td>\n      <td>At Intersection (intersection related)</td>\n      <td>N</td>\n      <td>N</td>\n      <td>Clear</td>\n      <td>Dry</td>\n      <td>Daylight</td>\n      <td>N</td>\n    </tr>\n    <tr>\n      <th>194655</th>\n      <td>2</td>\n      <td>-122.380016</td>\n      <td>47.664879</td>\n      <td>2019/01/20 00:00:00+00</td>\n      <td>1/20/2019</td>\n      <td>At Intersection (intersection related)</td>\n      <td>N</td>\n      <td>N</td>\n      <td>Clear</td>\n      <td>Dry</td>\n      <td>Daylight</td>\n      <td>N</td>\n    </tr>\n    <tr>\n      <th>194656</th>\n      <td>2</td>\n      <td>-122.340474</td>\n      <td>47.614496</td>\n      <td>2019/01/23 00:00:00+00</td>\n      <td>1/23/2019 10:15:00 AM</td>\n      <td>At Intersection (intersection related)</td>\n      <td>N</td>\n      <td>N</td>\n      <td>Clear</td>\n      <td>Dry</td>\n      <td>Daylight</td>\n      <td>N</td>\n    </tr>\n    <tr>\n      <th>194657</th>\n      <td>1</td>\n      <td>-122.337137</td>\n      <td>47.610709</td>\n      <td>2018/11/26 00:00:00+00</td>\n      <td>11/26/2018 3:37:00 AM</td>\n      <td>Mid-Block (not related to intersection)</td>\n      <td>N</td>\n      <td>N</td>\n      <td>Raining</td>\n      <td>Wet</td>\n      <td>Dark - Street Lights On</td>\n      <td>N</td>\n    </tr>\n    <tr>\n      <th>194658</th>\n      <td>1</td>\n      <td>-122.302554</td>\n      <td>47.584099</td>\n      <td>2019/01/18 00:00:00+00</td>\n      <td>1/18/2019 9:57:00 PM</td>\n      <td>Mid-Block (not related to intersection)</td>\n      <td>N</td>\n      <td>N</td>\n      <td>Raining</td>\n      <td>Wet</td>\n      <td>Dark - Street Lights On</td>\n      <td>N</td>\n    </tr>\n    <tr>\n      <th>194659</th>\n      <td>1</td>\n      <td>-122.298955</td>\n      <td>47.717456</td>\n      <td>2018/11/27 00:00:00+00</td>\n      <td>11/27/2018 5:30:00 PM</td>\n      <td>Mid-Block (not related to intersection)</td>\n      <td>N</td>\n      <td>N</td>\n      <td>Raining</td>\n      <td>Wet</td>\n      <td>Dark - Street Lights On</td>\n      <td>N</td>\n    </tr>\n    <tr>\n      <th>194660</th>\n      <td>2</td>\n      <td>-122.330518</td>\n      <td>47.619543</td>\n      <td>2018/12/23 00:00:00+00</td>\n      <td>12/23/2018 12:52:00 PM</td>\n      <td>Mid-Block (not related to intersection)</td>\n      <td>N</td>\n      <td>N</td>\n      <td>Raining</td>\n      <td>Wet</td>\n      <td>Other</td>\n      <td>N</td>\n    </tr>\n    <tr>\n      <th>194661</th>\n      <td>2</td>\n      <td>-122.306092</td>\n      <td>47.617881</td>\n      <td>2019/03/22 00:00:00+00</td>\n      <td>3/22/2019 5:19:00 PM</td>\n      <td>Mid-Block (but intersection related)</td>\n      <td>N</td>\n      <td>Y</td>\n      <td>Clear</td>\n      <td>Dry</td>\n      <td>Daylight</td>\n      <td>N</td>\n    </tr>\n    <tr>\n      <th>194662</th>\n      <td>1</td>\n      <td>-122.337880</td>\n      <td>47.625793</td>\n      <td>2018/12/05 00:00:00+00</td>\n      <td>12/5/2018 5:09:00 PM</td>\n      <td>Mid-Block (but intersection related)</td>\n      <td>N</td>\n      <td>N</td>\n      <td>Clear</td>\n      <td>Dry</td>\n      <td>Dusk</td>\n      <td>N</td>\n    </tr>\n    <tr>\n      <th>194663</th>\n      <td>2</td>\n      <td>-122.299160</td>\n      <td>47.579673</td>\n      <td>2019/01/09 00:00:00+00</td>\n      <td>1/9/2019 12:51:00 PM</td>\n      <td>Mid-Block (not related to intersection)</td>\n      <td>Y</td>\n      <td>N</td>\n      <td>Raining</td>\n      <td>Wet</td>\n      <td>Daylight</td>\n      <td>N</td>\n    </tr>\n    <tr>\n      <th>194664</th>\n      <td>1</td>\n      <td>-122.325887</td>\n      <td>47.643191</td>\n      <td>2018/12/30 00:00:00+00</td>\n      <td>12/30/2018 3:25:00 PM</td>\n      <td>At Intersection (intersection related)</td>\n      <td>N</td>\n      <td>N</td>\n      <td>Clear</td>\n      <td>Dry</td>\n      <td>Daylight</td>\n      <td>N</td>\n    </tr>\n    <tr>\n      <th>194665</th>\n      <td>1</td>\n      <td>-122.304217</td>\n      <td>47.669537</td>\n      <td>2018/12/05 00:00:00+00</td>\n      <td>12/5/2018 1:00:00 PM</td>\n      <td>At Intersection (intersection related)</td>\n      <td>N</td>\n      <td>N</td>\n      <td>Clear</td>\n      <td>Dry</td>\n      <td>Daylight</td>\n      <td>N</td>\n    </tr>\n    <tr>\n      <th>194666</th>\n      <td>2</td>\n      <td>-122.344569</td>\n      <td>47.694547</td>\n      <td>2019/01/04 00:00:00+00</td>\n      <td>1/4/2019 1:46:00 PM</td>\n      <td>Mid-Block (not related to intersection)</td>\n      <td>N</td>\n      <td>N</td>\n      <td>Clear</td>\n      <td>Wet</td>\n      <td>Daylight</td>\n      <td>N</td>\n    </tr>\n    <tr>\n      <th>194667</th>\n      <td>1</td>\n      <td>-122.361672</td>\n      <td>47.556722</td>\n      <td>2018/11/28 00:00:00+00</td>\n      <td>11/28/2018 9:34:00 PM</td>\n      <td>Mid-Block (not related to intersection)</td>\n      <td>N</td>\n      <td>Y</td>\n      <td>Raining</td>\n      <td>Wet</td>\n      <td>Dark - Street Lights On</td>\n      <td>N</td>\n    </tr>\n    <tr>\n      <th>194668</th>\n      <td>2</td>\n      <td>-122.290826</td>\n      <td>47.565408</td>\n      <td>2018/11/12 00:00:00+00</td>\n      <td>11/12/2018 8:12:00 AM</td>\n      <td>Mid-Block (not related to intersection)</td>\n      <td>N</td>\n      <td>N</td>\n      <td>Clear</td>\n      <td>Dry</td>\n      <td>Daylight</td>\n      <td>N</td>\n    </tr>\n    <tr>\n      <th>194669</th>\n      <td>1</td>\n      <td>-122.344526</td>\n      <td>47.690924</td>\n      <td>2018/12/18 00:00:00+00</td>\n      <td>12/18/2018 9:14:00 AM</td>\n      <td>Mid-Block (not related to intersection)</td>\n      <td>Y</td>\n      <td>N</td>\n      <td>Raining</td>\n      <td>Wet</td>\n      <td>Daylight</td>\n      <td>N</td>\n    </tr>\n    <tr>\n      <th>194670</th>\n      <td>2</td>\n      <td>-122.306689</td>\n      <td>47.683047</td>\n      <td>2019/01/19 00:00:00+00</td>\n      <td>1/19/2019 9:25:00 AM</td>\n      <td>At Intersection (intersection related)</td>\n      <td>N</td>\n      <td>N</td>\n      <td>Clear</td>\n      <td>Dry</td>\n      <td>Daylight</td>\n      <td>N</td>\n    </tr>\n    <tr>\n      <th>194671</th>\n      <td>2</td>\n      <td>-122.355317</td>\n      <td>47.678734</td>\n      <td>2019/01/15 00:00:00+00</td>\n      <td>1/15/2019 4:48:00 PM</td>\n      <td>At Intersection (intersection related)</td>\n      <td>N</td>\n      <td>N</td>\n      <td>Clear</td>\n      <td>Dry</td>\n      <td>Dusk</td>\n      <td>N</td>\n    </tr>\n    <tr>\n      <th>194672</th>\n      <td>1</td>\n      <td>-122.289360</td>\n      <td>47.611017</td>\n      <td>2018/11/30 00:00:00+00</td>\n      <td>11/30/2018 3:45:00 PM</td>\n      <td>Mid-Block (not related to intersection)</td>\n      <td>N</td>\n      <td>N</td>\n      <td>Clear</td>\n      <td>Wet</td>\n      <td>Daylight</td>\n      <td>N</td>\n    </tr>\n  </tbody>\n</table>\n</div>"
                    },
                    "metadata": {}
                }
            ]
        },
        {
            "metadata": {},
            "cell_type": "code",
            "source": "#we see that date and location have no effect in prediction so we will drop them in data frame\ntest = ['SEVERITYCODE', 'SPEEDING','ROADCOND','LIGHTCOND','WEATHER','INATTENTIONIND','UNDERINFL']\ndf_data = df[test]",
            "execution_count": 83,
            "outputs": []
        },
        {
            "metadata": {},
            "cell_type": "code",
            "source": "df_data.head()",
            "execution_count": 84,
            "outputs": [
                {
                    "output_type": "execute_result",
                    "execution_count": 84,
                    "data": {
                        "text/plain": "   SEVERITYCODE SPEEDING ROADCOND                LIGHTCOND   WEATHER  \\\n0             2        N      Wet                 Daylight  Overcast   \n1             1        N      Wet  Dark - Street Lights On   Raining   \n2             1        N      Dry                 Daylight  Overcast   \n3             1        N      Dry                 Daylight     Clear   \n4             2        N      Wet                 Daylight   Raining   \n\n  INATTENTIONIND UNDERINFL  \n0              N         N  \n1              N         0  \n2              N         0  \n3              N         N  \n4              N         0  ",
                        "text/html": "<div>\n<style scoped>\n    .dataframe tbody tr th:only-of-type {\n        vertical-align: middle;\n    }\n\n    .dataframe tbody tr th {\n        vertical-align: top;\n    }\n\n    .dataframe thead th {\n        text-align: right;\n    }\n</style>\n<table border=\"1\" class=\"dataframe\">\n  <thead>\n    <tr style=\"text-align: right;\">\n      <th></th>\n      <th>SEVERITYCODE</th>\n      <th>SPEEDING</th>\n      <th>ROADCOND</th>\n      <th>LIGHTCOND</th>\n      <th>WEATHER</th>\n      <th>INATTENTIONIND</th>\n      <th>UNDERINFL</th>\n    </tr>\n  </thead>\n  <tbody>\n    <tr>\n      <th>0</th>\n      <td>2</td>\n      <td>N</td>\n      <td>Wet</td>\n      <td>Daylight</td>\n      <td>Overcast</td>\n      <td>N</td>\n      <td>N</td>\n    </tr>\n    <tr>\n      <th>1</th>\n      <td>1</td>\n      <td>N</td>\n      <td>Wet</td>\n      <td>Dark - Street Lights On</td>\n      <td>Raining</td>\n      <td>N</td>\n      <td>0</td>\n    </tr>\n    <tr>\n      <th>2</th>\n      <td>1</td>\n      <td>N</td>\n      <td>Dry</td>\n      <td>Daylight</td>\n      <td>Overcast</td>\n      <td>N</td>\n      <td>0</td>\n    </tr>\n    <tr>\n      <th>3</th>\n      <td>1</td>\n      <td>N</td>\n      <td>Dry</td>\n      <td>Daylight</td>\n      <td>Clear</td>\n      <td>N</td>\n      <td>N</td>\n    </tr>\n    <tr>\n      <th>4</th>\n      <td>2</td>\n      <td>N</td>\n      <td>Wet</td>\n      <td>Daylight</td>\n      <td>Raining</td>\n      <td>N</td>\n      <td>0</td>\n    </tr>\n  </tbody>\n</table>\n</div>"
                    },
                    "metadata": {}
                }
            ]
        },
        {
            "metadata": {},
            "cell_type": "code",
            "source": "# We assign new values to roadcond\ndf_data['ROADCOND'].replace(to_replace=['Wet','Dry','Unknown','Snow/Slush','Ice','Other','Sand/Mud/Dirt','Standing Water','Oil'], value = ['Dangerous','Normal','Normal','Dangerous','Dangerous','Normal','Dangerous','Dangerous','Dangerous'], inplace=True)",
            "execution_count": 92,
            "outputs": []
        },
        {
            "metadata": {},
            "cell_type": "code",
            "source": "df_data['ROADCOND'].value_counts()",
            "execution_count": 100,
            "outputs": [
                {
                    "output_type": "execute_result",
                    "execution_count": 100,
                    "data": {
                        "text/plain": "Normal       144732\nDangerous     49941\nName: ROADCOND, dtype: int64"
                    },
                    "metadata": {}
                }
            ]
        },
        {
            "metadata": {},
            "cell_type": "code",
            "source": "df_data.head()",
            "execution_count": 94,
            "outputs": [
                {
                    "output_type": "execute_result",
                    "execution_count": 94,
                    "data": {
                        "text/plain": "   SEVERITYCODE SPEEDING   ROADCOND                LIGHTCOND   WEATHER  \\\n0             2        N  Dangerous                 Daylight  Overcast   \n1             1        N  Dangerous  Dark - Street Lights On   Raining   \n2             1        N     Normal                 Daylight  Overcast   \n3             1        N     Normal                 Daylight     Clear   \n4             2        N  Dangerous                 Daylight   Raining   \n\n  INATTENTIONIND UNDERINFL  \n0              N         N  \n1              N         0  \n2              N         0  \n3              N         N  \n4              N         0  ",
                        "text/html": "<div>\n<style scoped>\n    .dataframe tbody tr th:only-of-type {\n        vertical-align: middle;\n    }\n\n    .dataframe tbody tr th {\n        vertical-align: top;\n    }\n\n    .dataframe thead th {\n        text-align: right;\n    }\n</style>\n<table border=\"1\" class=\"dataframe\">\n  <thead>\n    <tr style=\"text-align: right;\">\n      <th></th>\n      <th>SEVERITYCODE</th>\n      <th>SPEEDING</th>\n      <th>ROADCOND</th>\n      <th>LIGHTCOND</th>\n      <th>WEATHER</th>\n      <th>INATTENTIONIND</th>\n      <th>UNDERINFL</th>\n    </tr>\n  </thead>\n  <tbody>\n    <tr>\n      <th>0</th>\n      <td>2</td>\n      <td>N</td>\n      <td>Dangerous</td>\n      <td>Daylight</td>\n      <td>Overcast</td>\n      <td>N</td>\n      <td>N</td>\n    </tr>\n    <tr>\n      <th>1</th>\n      <td>1</td>\n      <td>N</td>\n      <td>Dangerous</td>\n      <td>Dark - Street Lights On</td>\n      <td>Raining</td>\n      <td>N</td>\n      <td>0</td>\n    </tr>\n    <tr>\n      <th>2</th>\n      <td>1</td>\n      <td>N</td>\n      <td>Normal</td>\n      <td>Daylight</td>\n      <td>Overcast</td>\n      <td>N</td>\n      <td>0</td>\n    </tr>\n    <tr>\n      <th>3</th>\n      <td>1</td>\n      <td>N</td>\n      <td>Normal</td>\n      <td>Daylight</td>\n      <td>Clear</td>\n      <td>N</td>\n      <td>N</td>\n    </tr>\n    <tr>\n      <th>4</th>\n      <td>2</td>\n      <td>N</td>\n      <td>Dangerous</td>\n      <td>Daylight</td>\n      <td>Raining</td>\n      <td>N</td>\n      <td>0</td>\n    </tr>\n  </tbody>\n</table>\n</div>"
                    },
                    "metadata": {}
                }
            ]
        },
        {
            "metadata": {},
            "cell_type": "code",
            "source": "df_data['LIGHTCOND'].value_counts()",
            "execution_count": 95,
            "outputs": [
                {
                    "output_type": "execute_result",
                    "execution_count": 95,
                    "data": {
                        "text/plain": "Daylight                    121307\nDark - Street Lights On      48507\nUnknown                      13473\nDusk                          5902\nDawn                          2502\nDark - No Street Lights       1537\nDark - Street Lights Off      1199\nOther                          235\nDark - Unknown Lighting         11\nName: LIGHTCOND, dtype: int64"
                    },
                    "metadata": {}
                }
            ]
        },
        {
            "metadata": {},
            "cell_type": "code",
            "source": "# We assign new values to roadcond\ndf_data['LIGHTCOND'].replace(to_replace=['Daylight','Dark - Street Lights On','Unknown','Dusk','Dawn','Dark - No Street Lights','Dark - Street Lights Off','Other','Dark - Unknown Lighting'], value = ['Day','Night','Night','Night','Day','Night','Night','Night','Night'], inplace=True)",
            "execution_count": 98,
            "outputs": []
        },
        {
            "metadata": {},
            "cell_type": "code",
            "source": "df_data['LIGHTCOND'].value_counts()",
            "execution_count": 99,
            "outputs": [
                {
                    "output_type": "execute_result",
                    "execution_count": 99,
                    "data": {
                        "text/plain": "Day      123809\nNight     70864\nName: LIGHTCOND, dtype: int64"
                    },
                    "metadata": {}
                }
            ]
        },
        {
            "metadata": {},
            "cell_type": "code",
            "source": "df_data['WEATHER'].value_counts()",
            "execution_count": 101,
            "outputs": [
                {
                    "output_type": "execute_result",
                    "execution_count": 101,
                    "data": {
                        "text/plain": "Clear                       116216\nRaining                      33145\nOvercast                     27714\nUnknown                      15091\nSnowing                        907\nOther                          832\nFog/Smog/Smoke                 569\nSleet/Hail/Freezing Rain       113\nBlowing Sand/Dirt               56\nSevere Crosswind                25\nPartly Cloudy                    5\nName: WEATHER, dtype: int64"
                    },
                    "metadata": {}
                }
            ]
        },
        {
            "metadata": {},
            "cell_type": "code",
            "source": "# We assign new values to roadcond\ndf_data['WEATHER'].replace(to_replace=['Clear','Raining','Overcast','Unknown','Snowing','Other','Fog/Somg/Smoke','Sleet/Hail/Freezing Rain','Blowing Sand/Dirt','Severe Crosswind','Partly Cloudy'], value = ['Good','Bad','Good','Bad','Bad','Bad','Bad','Bad','Bad','Bad','good'], inplace=True)",
            "execution_count": 102,
            "outputs": []
        },
        {
            "metadata": {},
            "cell_type": "code",
            "source": "df_data['WEATHER'].value_counts()",
            "execution_count": 103,
            "outputs": [
                {
                    "output_type": "execute_result",
                    "execution_count": 103,
                    "data": {
                        "text/plain": "Good              143930\nBad                50169\nFog/Smog/Smoke       569\ngood                   5\nName: WEATHER, dtype: int64"
                    },
                    "metadata": {}
                }
            ]
        },
        {
            "metadata": {},
            "cell_type": "code",
            "source": "# We assign new values to roadcond\ndf_data['WEATHER'].replace(to_replace=['Fog/Smog/Smoke','good'], value = ['Bad','Good'], inplace=True)",
            "execution_count": 104,
            "outputs": []
        },
        {
            "metadata": {},
            "cell_type": "code",
            "source": "df_data['SPEEDING'].value_counts()",
            "execution_count": 111,
            "outputs": [
                {
                    "output_type": "execute_result",
                    "execution_count": 111,
                    "data": {
                        "text/plain": "N    185340\nY      9333\nName: SPEEDING, dtype: int64"
                    },
                    "metadata": {}
                }
            ]
        },
        {
            "metadata": {},
            "cell_type": "code",
            "source": "# We assign new values to roadcond\ndf_data['UNDERINFL'].replace(to_replace=['N','Y'], value = ['0','1'], inplace=True)",
            "execution_count": 108,
            "outputs": []
        },
        {
            "metadata": {},
            "cell_type": "code",
            "source": "df_data['UNDERINFL'].value_counts()",
            "execution_count": 109,
            "outputs": [
                {
                    "output_type": "execute_result",
                    "execution_count": 109,
                    "data": {
                        "text/plain": "0    185552\n1      9121\nName: UNDERINFL, dtype: int64"
                    },
                    "metadata": {}
                }
            ]
        },
        {
            "metadata": {},
            "cell_type": "code",
            "source": "df_data.head(10)",
            "execution_count": 110,
            "outputs": [
                {
                    "output_type": "execute_result",
                    "execution_count": 110,
                    "data": {
                        "text/plain": "   SEVERITYCODE SPEEDING   ROADCOND LIGHTCOND WEATHER INATTENTIONIND UNDERINFL\n0             2        N  Dangerous       Day    Good              N         0\n1             1        N  Dangerous     Night     Bad              N         0\n2             1        N     Normal       Day    Good              N         0\n3             1        N     Normal       Day    Good              N         0\n4             2        N  Dangerous       Day     Bad              N         0\n5             1        N     Normal       Day    Good              N         0\n6             1        N  Dangerous       Day     Bad              N         0\n7             2        N     Normal       Day    Good              N         0\n8             1        N     Normal       Day    Good              N         0\n9             2        N     Normal       Day    Good              N         0",
                        "text/html": "<div>\n<style scoped>\n    .dataframe tbody tr th:only-of-type {\n        vertical-align: middle;\n    }\n\n    .dataframe tbody tr th {\n        vertical-align: top;\n    }\n\n    .dataframe thead th {\n        text-align: right;\n    }\n</style>\n<table border=\"1\" class=\"dataframe\">\n  <thead>\n    <tr style=\"text-align: right;\">\n      <th></th>\n      <th>SEVERITYCODE</th>\n      <th>SPEEDING</th>\n      <th>ROADCOND</th>\n      <th>LIGHTCOND</th>\n      <th>WEATHER</th>\n      <th>INATTENTIONIND</th>\n      <th>UNDERINFL</th>\n    </tr>\n  </thead>\n  <tbody>\n    <tr>\n      <th>0</th>\n      <td>2</td>\n      <td>N</td>\n      <td>Dangerous</td>\n      <td>Day</td>\n      <td>Good</td>\n      <td>N</td>\n      <td>0</td>\n    </tr>\n    <tr>\n      <th>1</th>\n      <td>1</td>\n      <td>N</td>\n      <td>Dangerous</td>\n      <td>Night</td>\n      <td>Bad</td>\n      <td>N</td>\n      <td>0</td>\n    </tr>\n    <tr>\n      <th>2</th>\n      <td>1</td>\n      <td>N</td>\n      <td>Normal</td>\n      <td>Day</td>\n      <td>Good</td>\n      <td>N</td>\n      <td>0</td>\n    </tr>\n    <tr>\n      <th>3</th>\n      <td>1</td>\n      <td>N</td>\n      <td>Normal</td>\n      <td>Day</td>\n      <td>Good</td>\n      <td>N</td>\n      <td>0</td>\n    </tr>\n    <tr>\n      <th>4</th>\n      <td>2</td>\n      <td>N</td>\n      <td>Dangerous</td>\n      <td>Day</td>\n      <td>Bad</td>\n      <td>N</td>\n      <td>0</td>\n    </tr>\n    <tr>\n      <th>5</th>\n      <td>1</td>\n      <td>N</td>\n      <td>Normal</td>\n      <td>Day</td>\n      <td>Good</td>\n      <td>N</td>\n      <td>0</td>\n    </tr>\n    <tr>\n      <th>6</th>\n      <td>1</td>\n      <td>N</td>\n      <td>Dangerous</td>\n      <td>Day</td>\n      <td>Bad</td>\n      <td>N</td>\n      <td>0</td>\n    </tr>\n    <tr>\n      <th>7</th>\n      <td>2</td>\n      <td>N</td>\n      <td>Normal</td>\n      <td>Day</td>\n      <td>Good</td>\n      <td>N</td>\n      <td>0</td>\n    </tr>\n    <tr>\n      <th>8</th>\n      <td>1</td>\n      <td>N</td>\n      <td>Normal</td>\n      <td>Day</td>\n      <td>Good</td>\n      <td>N</td>\n      <td>0</td>\n    </tr>\n    <tr>\n      <th>9</th>\n      <td>2</td>\n      <td>N</td>\n      <td>Normal</td>\n      <td>Day</td>\n      <td>Good</td>\n      <td>N</td>\n      <td>0</td>\n    </tr>\n  </tbody>\n</table>\n</div>"
                    },
                    "metadata": {}
                }
            ]
        },
        {
            "metadata": {
                "scrolled": true
            },
            "cell_type": "code",
            "source": "\ndf_data['ROADCOND'].replace(to_replace=['Dangerous','Normal'],value=[0,1],inplace=True)\ndf_data['LIGHTCOND'].replace(to_replace=['Day','Night'],value=[1,0],inplace=True)\ndf_data['WEATHER'].replace(to_replace=['Good','Bad'],value=[1,0],inplace=True)\ndf_data['INATTENTIONIND'].replace(to_replace=['N','Y'],value=[0,1],inplace=True)\n",
            "execution_count": 119,
            "outputs": [
                {
                    "output_type": "error",
                    "ename": "TypeError",
                    "evalue": "Cannot compare types 'ndarray(dtype=int64)' and 'str'",
                    "traceback": [
                        "\u001b[0;31m---------------------------------------------------------------------------\u001b[0m",
                        "\u001b[0;31mTypeError\u001b[0m                                 Traceback (most recent call last)",
                        "\u001b[0;32m<ipython-input-119-cc95e0c6ec3c>\u001b[0m in \u001b[0;36m<module>\u001b[0;34m\u001b[0m\n\u001b[1;32m      1\u001b[0m \u001b[0;34m\u001b[0m\u001b[0m\n\u001b[0;32m----> 2\u001b[0;31m \u001b[0mdf_data\u001b[0m\u001b[0;34m[\u001b[0m\u001b[0;34m'ROADCOND'\u001b[0m\u001b[0;34m]\u001b[0m\u001b[0;34m.\u001b[0m\u001b[0mreplace\u001b[0m\u001b[0;34m(\u001b[0m\u001b[0mto_replace\u001b[0m\u001b[0;34m=\u001b[0m\u001b[0;34m[\u001b[0m\u001b[0;34m'Dangerous'\u001b[0m\u001b[0;34m,\u001b[0m\u001b[0;34m'Normal'\u001b[0m\u001b[0;34m]\u001b[0m\u001b[0;34m,\u001b[0m\u001b[0mvalue\u001b[0m\u001b[0;34m=\u001b[0m\u001b[0;34m[\u001b[0m\u001b[0;36m0\u001b[0m\u001b[0;34m,\u001b[0m\u001b[0;36m1\u001b[0m\u001b[0;34m]\u001b[0m\u001b[0;34m,\u001b[0m\u001b[0minplace\u001b[0m\u001b[0;34m=\u001b[0m\u001b[0;32mTrue\u001b[0m\u001b[0;34m)\u001b[0m\u001b[0;34m\u001b[0m\u001b[0;34m\u001b[0m\u001b[0m\n\u001b[0m\u001b[1;32m      3\u001b[0m \u001b[0mdf_data\u001b[0m\u001b[0;34m[\u001b[0m\u001b[0;34m'LIGHTCOND'\u001b[0m\u001b[0;34m]\u001b[0m\u001b[0;34m.\u001b[0m\u001b[0mreplace\u001b[0m\u001b[0;34m(\u001b[0m\u001b[0mto_replace\u001b[0m\u001b[0;34m=\u001b[0m\u001b[0;34m[\u001b[0m\u001b[0;34m'Day'\u001b[0m\u001b[0;34m,\u001b[0m\u001b[0;34m'Night'\u001b[0m\u001b[0;34m]\u001b[0m\u001b[0;34m,\u001b[0m\u001b[0mvalue\u001b[0m\u001b[0;34m=\u001b[0m\u001b[0;34m[\u001b[0m\u001b[0;36m1\u001b[0m\u001b[0;34m,\u001b[0m\u001b[0;36m0\u001b[0m\u001b[0;34m]\u001b[0m\u001b[0;34m,\u001b[0m\u001b[0minplace\u001b[0m\u001b[0;34m=\u001b[0m\u001b[0;32mTrue\u001b[0m\u001b[0;34m)\u001b[0m\u001b[0;34m\u001b[0m\u001b[0;34m\u001b[0m\u001b[0m\n\u001b[1;32m      4\u001b[0m \u001b[0mdf_data\u001b[0m\u001b[0;34m[\u001b[0m\u001b[0;34m'WEATHER'\u001b[0m\u001b[0;34m]\u001b[0m\u001b[0;34m.\u001b[0m\u001b[0mreplace\u001b[0m\u001b[0;34m(\u001b[0m\u001b[0mto_replace\u001b[0m\u001b[0;34m=\u001b[0m\u001b[0;34m[\u001b[0m\u001b[0;34m'Good'\u001b[0m\u001b[0;34m,\u001b[0m\u001b[0;34m'Bad'\u001b[0m\u001b[0;34m]\u001b[0m\u001b[0;34m,\u001b[0m\u001b[0mvalue\u001b[0m\u001b[0;34m=\u001b[0m\u001b[0;34m[\u001b[0m\u001b[0;36m1\u001b[0m\u001b[0;34m,\u001b[0m\u001b[0;36m0\u001b[0m\u001b[0;34m]\u001b[0m\u001b[0;34m,\u001b[0m\u001b[0minplace\u001b[0m\u001b[0;34m=\u001b[0m\u001b[0;32mTrue\u001b[0m\u001b[0;34m)\u001b[0m\u001b[0;34m\u001b[0m\u001b[0;34m\u001b[0m\u001b[0m\n\u001b[1;32m      5\u001b[0m \u001b[0mdf_data\u001b[0m\u001b[0;34m[\u001b[0m\u001b[0;34m'INATTENTIONIND'\u001b[0m\u001b[0;34m]\u001b[0m\u001b[0;34m.\u001b[0m\u001b[0mreplace\u001b[0m\u001b[0;34m(\u001b[0m\u001b[0mto_replace\u001b[0m\u001b[0;34m=\u001b[0m\u001b[0;34m[\u001b[0m\u001b[0;34m'N'\u001b[0m\u001b[0;34m,\u001b[0m\u001b[0;34m'Y'\u001b[0m\u001b[0;34m]\u001b[0m\u001b[0;34m,\u001b[0m\u001b[0mvalue\u001b[0m\u001b[0;34m=\u001b[0m\u001b[0;34m[\u001b[0m\u001b[0;36m0\u001b[0m\u001b[0;34m,\u001b[0m\u001b[0;36m1\u001b[0m\u001b[0;34m]\u001b[0m\u001b[0;34m,\u001b[0m\u001b[0minplace\u001b[0m\u001b[0;34m=\u001b[0m\u001b[0;32mTrue\u001b[0m\u001b[0;34m)\u001b[0m\u001b[0;34m\u001b[0m\u001b[0;34m\u001b[0m\u001b[0m\n",
                        "\u001b[0;32m/opt/conda/envs/Python36/lib/python3.6/site-packages/pandas/core/series.py\u001b[0m in \u001b[0;36mreplace\u001b[0;34m(self, to_replace, value, inplace, limit, regex, method)\u001b[0m\n\u001b[1;32m   3839\u001b[0m         return super(Series, self).replace(to_replace=to_replace, value=value,\n\u001b[1;32m   3840\u001b[0m                                            \u001b[0minplace\u001b[0m\u001b[0;34m=\u001b[0m\u001b[0minplace\u001b[0m\u001b[0;34m,\u001b[0m \u001b[0mlimit\u001b[0m\u001b[0;34m=\u001b[0m\u001b[0mlimit\u001b[0m\u001b[0;34m,\u001b[0m\u001b[0;34m\u001b[0m\u001b[0;34m\u001b[0m\u001b[0m\n\u001b[0;32m-> 3841\u001b[0;31m                                            regex=regex, method=method)\n\u001b[0m\u001b[1;32m   3842\u001b[0m \u001b[0;34m\u001b[0m\u001b[0m\n\u001b[1;32m   3843\u001b[0m     \u001b[0;34m@\u001b[0m\u001b[0mAppender\u001b[0m\u001b[0;34m(\u001b[0m\u001b[0mgeneric\u001b[0m\u001b[0;34m.\u001b[0m\u001b[0m_shared_docs\u001b[0m\u001b[0;34m[\u001b[0m\u001b[0;34m'shift'\u001b[0m\u001b[0;34m]\u001b[0m \u001b[0;34m%\u001b[0m \u001b[0m_shared_doc_kwargs\u001b[0m\u001b[0;34m)\u001b[0m\u001b[0;34m\u001b[0m\u001b[0;34m\u001b[0m\u001b[0m\n",
                        "\u001b[0;32m/opt/conda/envs/Python36/lib/python3.6/site-packages/pandas/core/generic.py\u001b[0m in \u001b[0;36mreplace\u001b[0;34m(self, to_replace, value, inplace, limit, regex, method)\u001b[0m\n\u001b[1;32m   6545\u001b[0m                                                        \u001b[0mdest_list\u001b[0m\u001b[0;34m=\u001b[0m\u001b[0mvalue\u001b[0m\u001b[0;34m,\u001b[0m\u001b[0;34m\u001b[0m\u001b[0;34m\u001b[0m\u001b[0m\n\u001b[1;32m   6546\u001b[0m                                                        \u001b[0minplace\u001b[0m\u001b[0;34m=\u001b[0m\u001b[0minplace\u001b[0m\u001b[0;34m,\u001b[0m\u001b[0;34m\u001b[0m\u001b[0;34m\u001b[0m\u001b[0m\n\u001b[0;32m-> 6547\u001b[0;31m                                                        regex=regex)\n\u001b[0m\u001b[1;32m   6548\u001b[0m \u001b[0;34m\u001b[0m\u001b[0m\n\u001b[1;32m   6549\u001b[0m                 \u001b[0;32melse\u001b[0m\u001b[0;34m:\u001b[0m  \u001b[0;31m# [NA, ''] -> 0\u001b[0m\u001b[0;34m\u001b[0m\u001b[0;34m\u001b[0m\u001b[0m\n",
                        "\u001b[0;32m/opt/conda/envs/Python36/lib/python3.6/site-packages/pandas/core/internals/managers.py\u001b[0m in \u001b[0;36mreplace_list\u001b[0;34m(self, src_list, dest_list, inplace, regex)\u001b[0m\n\u001b[1;32m    557\u001b[0m             \u001b[0;32mreturn\u001b[0m \u001b[0m_compare_or_regex_match\u001b[0m\u001b[0;34m(\u001b[0m\u001b[0mvalues\u001b[0m\u001b[0;34m,\u001b[0m \u001b[0ms\u001b[0m\u001b[0;34m,\u001b[0m \u001b[0mregex\u001b[0m\u001b[0;34m)\u001b[0m\u001b[0;34m\u001b[0m\u001b[0;34m\u001b[0m\u001b[0m\n\u001b[1;32m    558\u001b[0m \u001b[0;34m\u001b[0m\u001b[0m\n\u001b[0;32m--> 559\u001b[0;31m         \u001b[0mmasks\u001b[0m \u001b[0;34m=\u001b[0m \u001b[0;34m[\u001b[0m\u001b[0mcomp\u001b[0m\u001b[0;34m(\u001b[0m\u001b[0ms\u001b[0m\u001b[0;34m,\u001b[0m \u001b[0mregex\u001b[0m\u001b[0;34m)\u001b[0m \u001b[0;32mfor\u001b[0m \u001b[0mi\u001b[0m\u001b[0;34m,\u001b[0m \u001b[0ms\u001b[0m \u001b[0;32min\u001b[0m \u001b[0menumerate\u001b[0m\u001b[0;34m(\u001b[0m\u001b[0msrc_list\u001b[0m\u001b[0;34m)\u001b[0m\u001b[0;34m]\u001b[0m\u001b[0;34m\u001b[0m\u001b[0;34m\u001b[0m\u001b[0m\n\u001b[0m\u001b[1;32m    560\u001b[0m \u001b[0;34m\u001b[0m\u001b[0m\n\u001b[1;32m    561\u001b[0m         \u001b[0mresult_blocks\u001b[0m \u001b[0;34m=\u001b[0m \u001b[0;34m[\u001b[0m\u001b[0;34m]\u001b[0m\u001b[0;34m\u001b[0m\u001b[0;34m\u001b[0m\u001b[0m\n",
                        "\u001b[0;32m/opt/conda/envs/Python36/lib/python3.6/site-packages/pandas/core/internals/managers.py\u001b[0m in \u001b[0;36m<listcomp>\u001b[0;34m(.0)\u001b[0m\n\u001b[1;32m    557\u001b[0m             \u001b[0;32mreturn\u001b[0m \u001b[0m_compare_or_regex_match\u001b[0m\u001b[0;34m(\u001b[0m\u001b[0mvalues\u001b[0m\u001b[0;34m,\u001b[0m \u001b[0ms\u001b[0m\u001b[0;34m,\u001b[0m \u001b[0mregex\u001b[0m\u001b[0;34m)\u001b[0m\u001b[0;34m\u001b[0m\u001b[0;34m\u001b[0m\u001b[0m\n\u001b[1;32m    558\u001b[0m \u001b[0;34m\u001b[0m\u001b[0m\n\u001b[0;32m--> 559\u001b[0;31m         \u001b[0mmasks\u001b[0m \u001b[0;34m=\u001b[0m \u001b[0;34m[\u001b[0m\u001b[0mcomp\u001b[0m\u001b[0;34m(\u001b[0m\u001b[0ms\u001b[0m\u001b[0;34m,\u001b[0m \u001b[0mregex\u001b[0m\u001b[0;34m)\u001b[0m \u001b[0;32mfor\u001b[0m \u001b[0mi\u001b[0m\u001b[0;34m,\u001b[0m \u001b[0ms\u001b[0m \u001b[0;32min\u001b[0m \u001b[0menumerate\u001b[0m\u001b[0;34m(\u001b[0m\u001b[0msrc_list\u001b[0m\u001b[0;34m)\u001b[0m\u001b[0;34m]\u001b[0m\u001b[0;34m\u001b[0m\u001b[0;34m\u001b[0m\u001b[0m\n\u001b[0m\u001b[1;32m    560\u001b[0m \u001b[0;34m\u001b[0m\u001b[0m\n\u001b[1;32m    561\u001b[0m         \u001b[0mresult_blocks\u001b[0m \u001b[0;34m=\u001b[0m \u001b[0;34m[\u001b[0m\u001b[0;34m]\u001b[0m\u001b[0;34m\u001b[0m\u001b[0;34m\u001b[0m\u001b[0m\n",
                        "\u001b[0;32m/opt/conda/envs/Python36/lib/python3.6/site-packages/pandas/core/internals/managers.py\u001b[0m in \u001b[0;36mcomp\u001b[0;34m(s, regex)\u001b[0m\n\u001b[1;32m    555\u001b[0m                 return _compare_or_regex_match(maybe_convert_objects(values),\n\u001b[1;32m    556\u001b[0m                                                getattr(s, 'asm8'), regex)\n\u001b[0;32m--> 557\u001b[0;31m             \u001b[0;32mreturn\u001b[0m \u001b[0m_compare_or_regex_match\u001b[0m\u001b[0;34m(\u001b[0m\u001b[0mvalues\u001b[0m\u001b[0;34m,\u001b[0m \u001b[0ms\u001b[0m\u001b[0;34m,\u001b[0m \u001b[0mregex\u001b[0m\u001b[0;34m)\u001b[0m\u001b[0;34m\u001b[0m\u001b[0;34m\u001b[0m\u001b[0m\n\u001b[0m\u001b[1;32m    558\u001b[0m \u001b[0;34m\u001b[0m\u001b[0m\n\u001b[1;32m    559\u001b[0m         \u001b[0mmasks\u001b[0m \u001b[0;34m=\u001b[0m \u001b[0;34m[\u001b[0m\u001b[0mcomp\u001b[0m\u001b[0;34m(\u001b[0m\u001b[0ms\u001b[0m\u001b[0;34m,\u001b[0m \u001b[0mregex\u001b[0m\u001b[0;34m)\u001b[0m \u001b[0;32mfor\u001b[0m \u001b[0mi\u001b[0m\u001b[0;34m,\u001b[0m \u001b[0ms\u001b[0m \u001b[0;32min\u001b[0m \u001b[0menumerate\u001b[0m\u001b[0;34m(\u001b[0m\u001b[0msrc_list\u001b[0m\u001b[0;34m)\u001b[0m\u001b[0;34m]\u001b[0m\u001b[0;34m\u001b[0m\u001b[0;34m\u001b[0m\u001b[0m\n",
                        "\u001b[0;32m/opt/conda/envs/Python36/lib/python3.6/site-packages/pandas/core/internals/managers.py\u001b[0m in \u001b[0;36m_compare_or_regex_match\u001b[0;34m(a, b, regex)\u001b[0m\n\u001b[1;32m   1949\u001b[0m         raise TypeError(\n\u001b[1;32m   1950\u001b[0m             \"Cannot compare types {a!r} and {b!r}\".format(a=type_names[0],\n\u001b[0;32m-> 1951\u001b[0;31m                                                           b=type_names[1]))\n\u001b[0m\u001b[1;32m   1952\u001b[0m     \u001b[0;32mreturn\u001b[0m \u001b[0mresult\u001b[0m\u001b[0;34m\u001b[0m\u001b[0;34m\u001b[0m\u001b[0m\n\u001b[1;32m   1953\u001b[0m \u001b[0;34m\u001b[0m\u001b[0m\n",
                        "\u001b[0;31mTypeError\u001b[0m: Cannot compare types 'ndarray(dtype=int64)' and 'str'"
                    ]
                }
            ]
        },
        {
            "metadata": {},
            "cell_type": "code",
            "source": "df_data.tail(10)",
            "execution_count": 126,
            "outputs": [
                {
                    "output_type": "execute_result",
                    "execution_count": 126,
                    "data": {
                        "text/plain": "        SEVERITYCODE SPEEDING  ROADCOND  LIGHTCOND  WEATHER  INATTENTIONIND  \\\n194663             2        N         0          1        0               1   \n194664             1        N         1          1        1               0   \n194665             1        N         1          1        1               0   \n194666             2        N         0          1        1               0   \n194667             1        N         0          0        0               0   \n194668             2        N         1          1        1               0   \n194669             1        N         0          1        0               1   \n194670             2        N         1          1        1               0   \n194671             2        N         1          0        1               0   \n194672             1        N         0          1        1               0   \n\n       UNDERINFL  \n194663         0  \n194664         0  \n194665         0  \n194666         0  \n194667         1  \n194668         0  \n194669         0  \n194670         0  \n194671         0  \n194672         0  ",
                        "text/html": "<div>\n<style scoped>\n    .dataframe tbody tr th:only-of-type {\n        vertical-align: middle;\n    }\n\n    .dataframe tbody tr th {\n        vertical-align: top;\n    }\n\n    .dataframe thead th {\n        text-align: right;\n    }\n</style>\n<table border=\"1\" class=\"dataframe\">\n  <thead>\n    <tr style=\"text-align: right;\">\n      <th></th>\n      <th>SEVERITYCODE</th>\n      <th>SPEEDING</th>\n      <th>ROADCOND</th>\n      <th>LIGHTCOND</th>\n      <th>WEATHER</th>\n      <th>INATTENTIONIND</th>\n      <th>UNDERINFL</th>\n    </tr>\n  </thead>\n  <tbody>\n    <tr>\n      <th>194663</th>\n      <td>2</td>\n      <td>N</td>\n      <td>0</td>\n      <td>1</td>\n      <td>0</td>\n      <td>1</td>\n      <td>0</td>\n    </tr>\n    <tr>\n      <th>194664</th>\n      <td>1</td>\n      <td>N</td>\n      <td>1</td>\n      <td>1</td>\n      <td>1</td>\n      <td>0</td>\n      <td>0</td>\n    </tr>\n    <tr>\n      <th>194665</th>\n      <td>1</td>\n      <td>N</td>\n      <td>1</td>\n      <td>1</td>\n      <td>1</td>\n      <td>0</td>\n      <td>0</td>\n    </tr>\n    <tr>\n      <th>194666</th>\n      <td>2</td>\n      <td>N</td>\n      <td>0</td>\n      <td>1</td>\n      <td>1</td>\n      <td>0</td>\n      <td>0</td>\n    </tr>\n    <tr>\n      <th>194667</th>\n      <td>1</td>\n      <td>N</td>\n      <td>0</td>\n      <td>0</td>\n      <td>0</td>\n      <td>0</td>\n      <td>1</td>\n    </tr>\n    <tr>\n      <th>194668</th>\n      <td>2</td>\n      <td>N</td>\n      <td>1</td>\n      <td>1</td>\n      <td>1</td>\n      <td>0</td>\n      <td>0</td>\n    </tr>\n    <tr>\n      <th>194669</th>\n      <td>1</td>\n      <td>N</td>\n      <td>0</td>\n      <td>1</td>\n      <td>0</td>\n      <td>1</td>\n      <td>0</td>\n    </tr>\n    <tr>\n      <th>194670</th>\n      <td>2</td>\n      <td>N</td>\n      <td>1</td>\n      <td>1</td>\n      <td>1</td>\n      <td>0</td>\n      <td>0</td>\n    </tr>\n    <tr>\n      <th>194671</th>\n      <td>2</td>\n      <td>N</td>\n      <td>1</td>\n      <td>0</td>\n      <td>1</td>\n      <td>0</td>\n      <td>0</td>\n    </tr>\n    <tr>\n      <th>194672</th>\n      <td>1</td>\n      <td>N</td>\n      <td>0</td>\n      <td>1</td>\n      <td>1</td>\n      <td>0</td>\n      <td>0</td>\n    </tr>\n  </tbody>\n</table>\n</div>"
                    },
                    "metadata": {}
                }
            ]
        },
        {
            "metadata": {},
            "cell_type": "code",
            "source": "df_data[\"UNDERINFL\"] = df_data[\"UNDERINFL\"].astype(\"int\")",
            "execution_count": 128,
            "outputs": [
                {
                    "output_type": "stream",
                    "text": "/opt/conda/envs/Python36/lib/python3.6/site-packages/ipykernel/__main__.py:1: SettingWithCopyWarning: \nA value is trying to be set on a copy of a slice from a DataFrame.\nTry using .loc[row_indexer,col_indexer] = value instead\n\nSee the caveats in the documentation: http://pandas.pydata.org/pandas-docs/stable/indexing.html#indexing-view-versus-copy\n  if __name__ == '__main__':\n",
                    "name": "stderr"
                }
            ]
        },
        {
            "metadata": {},
            "cell_type": "code",
            "source": "df_data.dtypes",
            "execution_count": 129,
            "outputs": [
                {
                    "output_type": "execute_result",
                    "execution_count": 129,
                    "data": {
                        "text/plain": "SEVERITYCODE       int64\nSPEEDING          object\nROADCOND           int64\nLIGHTCOND          int64\nWEATHER            int64\nINATTENTIONIND     int64\nUNDERINFL          int64\ndtype: object"
                    },
                    "metadata": {}
                }
            ]
        },
        {
            "metadata": {},
            "cell_type": "code",
            "source": "df_data['SPEEDING'].replace(to_replace=['N','Y'],value=[0,1],inplace=True)",
            "execution_count": 132,
            "outputs": []
        },
        {
            "metadata": {},
            "cell_type": "code",
            "source": "df_data.dtypes",
            "execution_count": 133,
            "outputs": [
                {
                    "output_type": "execute_result",
                    "execution_count": 133,
                    "data": {
                        "text/plain": "SEVERITYCODE      int64\nSPEEDING          int64\nROADCOND          int64\nLIGHTCOND         int64\nWEATHER           int64\nINATTENTIONIND    int64\nUNDERINFL         int64\ndtype: object"
                    },
                    "metadata": {}
                }
            ]
        },
        {
            "metadata": {},
            "cell_type": "code",
            "source": "df_data.head(20)",
            "execution_count": 138,
            "outputs": [
                {
                    "output_type": "execute_result",
                    "execution_count": 138,
                    "data": {
                        "text/plain": "    SEVERITYCODE  SPEEDING  ROADCOND  LIGHTCOND  WEATHER  INATTENTIONIND  \\\n0              2         0         0          1        1               0   \n1              1         0         0          0        0               0   \n2              1         0         1          1        1               0   \n3              1         0         1          1        1               0   \n4              2         0         0          1        0               0   \n5              1         0         1          1        1               0   \n6              1         0         0          1        0               0   \n7              2         0         1          1        1               0   \n8              1         0         1          1        1               0   \n9              2         0         1          1        1               0   \n10             1         0         1          1        1               0   \n11             1         0         1          1        1               0   \n12             1         0         0          0        0               0   \n13             1         0         0          0        0               0   \n14             2         0         1          0        1               0   \n15             1         0         1          1        1               0   \n16             2         0         1          1        1               0   \n17             1         0         1          1        1               0   \n18             2         0         1          1        1               0   \n19             1         0         1          0        0               0   \n\n    UNDERINFL  \n0           0  \n1           0  \n2           0  \n3           0  \n4           0  \n5           0  \n6           0  \n7           0  \n8           0  \n9           0  \n10          0  \n11          0  \n12          0  \n13          0  \n14          0  \n15          0  \n16          0  \n17          0  \n18          0  \n19          0  ",
                        "text/html": "<div>\n<style scoped>\n    .dataframe tbody tr th:only-of-type {\n        vertical-align: middle;\n    }\n\n    .dataframe tbody tr th {\n        vertical-align: top;\n    }\n\n    .dataframe thead th {\n        text-align: right;\n    }\n</style>\n<table border=\"1\" class=\"dataframe\">\n  <thead>\n    <tr style=\"text-align: right;\">\n      <th></th>\n      <th>SEVERITYCODE</th>\n      <th>SPEEDING</th>\n      <th>ROADCOND</th>\n      <th>LIGHTCOND</th>\n      <th>WEATHER</th>\n      <th>INATTENTIONIND</th>\n      <th>UNDERINFL</th>\n    </tr>\n  </thead>\n  <tbody>\n    <tr>\n      <th>0</th>\n      <td>2</td>\n      <td>0</td>\n      <td>0</td>\n      <td>1</td>\n      <td>1</td>\n      <td>0</td>\n      <td>0</td>\n    </tr>\n    <tr>\n      <th>1</th>\n      <td>1</td>\n      <td>0</td>\n      <td>0</td>\n      <td>0</td>\n      <td>0</td>\n      <td>0</td>\n      <td>0</td>\n    </tr>\n    <tr>\n      <th>2</th>\n      <td>1</td>\n      <td>0</td>\n      <td>1</td>\n      <td>1</td>\n      <td>1</td>\n      <td>0</td>\n      <td>0</td>\n    </tr>\n    <tr>\n      <th>3</th>\n      <td>1</td>\n      <td>0</td>\n      <td>1</td>\n      <td>1</td>\n      <td>1</td>\n      <td>0</td>\n      <td>0</td>\n    </tr>\n    <tr>\n      <th>4</th>\n      <td>2</td>\n      <td>0</td>\n      <td>0</td>\n      <td>1</td>\n      <td>0</td>\n      <td>0</td>\n      <td>0</td>\n    </tr>\n    <tr>\n      <th>5</th>\n      <td>1</td>\n      <td>0</td>\n      <td>1</td>\n      <td>1</td>\n      <td>1</td>\n      <td>0</td>\n      <td>0</td>\n    </tr>\n    <tr>\n      <th>6</th>\n      <td>1</td>\n      <td>0</td>\n      <td>0</td>\n      <td>1</td>\n      <td>0</td>\n      <td>0</td>\n      <td>0</td>\n    </tr>\n    <tr>\n      <th>7</th>\n      <td>2</td>\n      <td>0</td>\n      <td>1</td>\n      <td>1</td>\n      <td>1</td>\n      <td>0</td>\n      <td>0</td>\n    </tr>\n    <tr>\n      <th>8</th>\n      <td>1</td>\n      <td>0</td>\n      <td>1</td>\n      <td>1</td>\n      <td>1</td>\n      <td>0</td>\n      <td>0</td>\n    </tr>\n    <tr>\n      <th>9</th>\n      <td>2</td>\n      <td>0</td>\n      <td>1</td>\n      <td>1</td>\n      <td>1</td>\n      <td>0</td>\n      <td>0</td>\n    </tr>\n    <tr>\n      <th>10</th>\n      <td>1</td>\n      <td>0</td>\n      <td>1</td>\n      <td>1</td>\n      <td>1</td>\n      <td>0</td>\n      <td>0</td>\n    </tr>\n    <tr>\n      <th>11</th>\n      <td>1</td>\n      <td>0</td>\n      <td>1</td>\n      <td>1</td>\n      <td>1</td>\n      <td>0</td>\n      <td>0</td>\n    </tr>\n    <tr>\n      <th>12</th>\n      <td>1</td>\n      <td>0</td>\n      <td>0</td>\n      <td>0</td>\n      <td>0</td>\n      <td>0</td>\n      <td>0</td>\n    </tr>\n    <tr>\n      <th>13</th>\n      <td>1</td>\n      <td>0</td>\n      <td>0</td>\n      <td>0</td>\n      <td>0</td>\n      <td>0</td>\n      <td>0</td>\n    </tr>\n    <tr>\n      <th>14</th>\n      <td>2</td>\n      <td>0</td>\n      <td>1</td>\n      <td>0</td>\n      <td>1</td>\n      <td>0</td>\n      <td>0</td>\n    </tr>\n    <tr>\n      <th>15</th>\n      <td>1</td>\n      <td>0</td>\n      <td>1</td>\n      <td>1</td>\n      <td>1</td>\n      <td>0</td>\n      <td>0</td>\n    </tr>\n    <tr>\n      <th>16</th>\n      <td>2</td>\n      <td>0</td>\n      <td>1</td>\n      <td>1</td>\n      <td>1</td>\n      <td>0</td>\n      <td>0</td>\n    </tr>\n    <tr>\n      <th>17</th>\n      <td>1</td>\n      <td>0</td>\n      <td>1</td>\n      <td>1</td>\n      <td>1</td>\n      <td>0</td>\n      <td>0</td>\n    </tr>\n    <tr>\n      <th>18</th>\n      <td>2</td>\n      <td>0</td>\n      <td>1</td>\n      <td>1</td>\n      <td>1</td>\n      <td>0</td>\n      <td>0</td>\n    </tr>\n    <tr>\n      <th>19</th>\n      <td>1</td>\n      <td>0</td>\n      <td>1</td>\n      <td>0</td>\n      <td>0</td>\n      <td>0</td>\n      <td>0</td>\n    </tr>\n  </tbody>\n</table>\n</div>"
                    },
                    "metadata": {}
                }
            ]
        },
        {
            "metadata": {},
            "cell_type": "code",
            "source": "df_data['SPEEDING'].value_counts()",
            "execution_count": 140,
            "outputs": [
                {
                    "output_type": "execute_result",
                    "execution_count": 140,
                    "data": {
                        "text/plain": "0    185340\n1      9333\nName: SPEEDING, dtype: int64"
                    },
                    "metadata": {}
                }
            ]
        },
        {
            "metadata": {},
            "cell_type": "code",
            "source": "x = df_data[['SPEEDING','ROADCOND','LIGHTCOND','WEATHER','INATTENTIONIND','UNDERINFL']]\ny = df_data['SEVERITYCODE'].values.astype(str)\nx = preprocessing.StandardScaler().fit(x).transform(x)\nx_train, x_test, y_train, y_test = train_test_split(x, y, test_size=0.2, random_state=1234)\nprint ('Train set:', x_train.shape,  y_train.shape)\nprint ('Test set:', x_test.shape,  y_test.shape)\n",
            "execution_count": 146,
            "outputs": [
                {
                    "output_type": "stream",
                    "text": "Train set: (155738, 6) (155738,)\nTest set: (38935, 6) (38935,)\n",
                    "name": "stdout"
                },
                {
                    "output_type": "stream",
                    "text": "/opt/conda/envs/Python36/lib/python3.6/site-packages/sklearn/preprocessing/data.py:645: DataConversionWarning: Data with input dtype int64 were all converted to float64 by StandardScaler.\n  return self.partial_fit(X, y)\n/opt/conda/envs/Python36/lib/python3.6/site-packages/ipykernel/__main__.py:3: DataConversionWarning: Data with input dtype int64 were all converted to float64 by StandardScaler.\n  app.launch_new_instance()\n",
                    "name": "stderr"
                }
            ]
        },
        {
            "metadata": {},
            "cell_type": "code",
            "source": "#tree model\nTree_model = DecisionTreeClassifier(criterion=\"entropy\", max_depth = 4)\nTree_model.fit(x_train, y_train)\npredicted = Tree_model.predict(x_test)\nTree_f1 = f1_score(y_test, predicted, average='weighted')\nTree_acc = accuracy_score(y_test, predicted)",
            "execution_count": 147,
            "outputs": []
        },
        {
            "metadata": {},
            "cell_type": "code",
            "source": "#Logistic Regression\nLR_model = LogisticRegression(C=0.01, solver='liblinear').fit(x_train, y_train)\npredicted = LR_model.predict(x_test)\nLR_f1 = f1_score(y_test, predicted, average='weighted')\nLR_acc = accuracy_score(y_test, predicted)",
            "execution_count": 148,
            "outputs": []
        },
        {
            "metadata": {},
            "cell_type": "code",
            "source": "#KNN methodology\nKNN_model = KNeighborsClassifier(n_neighbors = 4).fit(x_train, y_train)\npredicted = KNN_model.predict(x_test)\nKNN_f1 = f1_score(y_test, predicted, average='weighted')\nKNN_acc = accuracy_score(y_test, predicted)",
            "execution_count": 150,
            "outputs": []
        },
        {
            "metadata": {},
            "cell_type": "code",
            "source": "results = {\n    \"Method of Analisys\": [\"KNN\", \"Decision Tree\", \"LogisticRegression\"],\n    \"F1-score\": [KNN_f1, Tree_f1, LR_f1],\n    \"Accuracy\": [KNN_acc, Tree_acc, LR_acc]\n}\n\nresults = pd.DataFrame(results)\nresults",
            "execution_count": 151,
            "outputs": [
                {
                    "output_type": "execute_result",
                    "execution_count": 151,
                    "data": {
                        "text/plain": "   Method of Analisys  F1-score  Accuracy\n0                 KNN  0.615139  0.675947\n1       Decision Tree  0.577235  0.700064\n2  LogisticRegression  0.579591  0.698241",
                        "text/html": "<div>\n<style scoped>\n    .dataframe tbody tr th:only-of-type {\n        vertical-align: middle;\n    }\n\n    .dataframe tbody tr th {\n        vertical-align: top;\n    }\n\n    .dataframe thead th {\n        text-align: right;\n    }\n</style>\n<table border=\"1\" class=\"dataframe\">\n  <thead>\n    <tr style=\"text-align: right;\">\n      <th></th>\n      <th>Method of Analisys</th>\n      <th>F1-score</th>\n      <th>Accuracy</th>\n    </tr>\n  </thead>\n  <tbody>\n    <tr>\n      <th>0</th>\n      <td>KNN</td>\n      <td>0.615139</td>\n      <td>0.675947</td>\n    </tr>\n    <tr>\n      <th>1</th>\n      <td>Decision Tree</td>\n      <td>0.577235</td>\n      <td>0.700064</td>\n    </tr>\n    <tr>\n      <th>2</th>\n      <td>LogisticRegression</td>\n      <td>0.579591</td>\n      <td>0.698241</td>\n    </tr>\n  </tbody>\n</table>\n</div>"
                    },
                    "metadata": {}
                }
            ]
        },
        {
            "metadata": {},
            "cell_type": "code",
            "source": "results = {\n    \"Intercept\": LR_model.intercept_,\n    \"SPEEDING \": LR_model.coef_[:,0],\n    \"ROADCOND \": LR_model.coef_[:,1],\n    \"LIGHTCOND \": LR_model.coef_[:,2],\n    \"WEATHER \": LR_model.coef_[:,3],\n    \"INATTENTIONIND\": LR_model.coef_[:,4],\n    \"UNDERINFL\": LR_model.coef_[:,5],\n}\n\nresults = pd.DataFrame(results)\nresults",
            "execution_count": 152,
            "outputs": [
                {
                    "output_type": "execute_result",
                    "execution_count": 152,
                    "data": {
                        "text/plain": "   Intercept  SPEEDING   ROADCOND   LIGHTCOND   WEATHER   INATTENTIONIND  \\\n0  -0.874066   0.067521  -0.221704    0.170609  0.235691        0.080582   \n\n   UNDERINFL  \n0   0.113277  ",
                        "text/html": "<div>\n<style scoped>\n    .dataframe tbody tr th:only-of-type {\n        vertical-align: middle;\n    }\n\n    .dataframe tbody tr th {\n        vertical-align: top;\n    }\n\n    .dataframe thead th {\n        text-align: right;\n    }\n</style>\n<table border=\"1\" class=\"dataframe\">\n  <thead>\n    <tr style=\"text-align: right;\">\n      <th></th>\n      <th>Intercept</th>\n      <th>SPEEDING</th>\n      <th>ROADCOND</th>\n      <th>LIGHTCOND</th>\n      <th>WEATHER</th>\n      <th>INATTENTIONIND</th>\n      <th>UNDERINFL</th>\n    </tr>\n  </thead>\n  <tbody>\n    <tr>\n      <th>0</th>\n      <td>-0.874066</td>\n      <td>0.067521</td>\n      <td>-0.221704</td>\n      <td>0.170609</td>\n      <td>0.235691</td>\n      <td>0.080582</td>\n      <td>0.113277</td>\n    </tr>\n  </tbody>\n</table>\n</div>"
                    },
                    "metadata": {}
                }
            ]
        },
        {
            "metadata": {},
            "cell_type": "code",
            "source": "",
            "execution_count": null,
            "outputs": []
        }
    ],
    "metadata": {
        "kernelspec": {
            "name": "python3",
            "display_name": "Python 3.6",
            "language": "python"
        },
        "language_info": {
            "name": "python",
            "version": "3.6.9",
            "mimetype": "text/x-python",
            "codemirror_mode": {
                "name": "ipython",
                "version": 3
            },
            "pygments_lexer": "ipython3",
            "nbconvert_exporter": "python",
            "file_extension": ".py"
        }
    },
    "nbformat": 4,
    "nbformat_minor": 1
}